{
  "nbformat": 4,
  "nbformat_minor": 0,
  "metadata": {
    "colab": {
      "name": "Untitled0.ipynb",
      "provenance": [],
      "authorship_tag": "ABX9TyMvV/m0Ce7ycbnBImY+HId3",
      "include_colab_link": true
    },
    "kernelspec": {
      "name": "python3",
      "display_name": "Python 3"
    }
  },
  "cells": [
    {
      "cell_type": "markdown",
      "metadata": {
        "id": "view-in-github",
        "colab_type": "text"
      },
      "source": [
        "<a href=\"https://colab.research.google.com/github/kang-giheon/giheon/blob/master/Untitled0.ipynb\" target=\"_parent\"><img src=\"https://colab.research.google.com/assets/colab-badge.svg\" alt=\"Open In Colab\"/></a>"
      ]
    },
    {
      "cell_type": "markdown",
      "metadata": {
        "id": "rrERLaxrgrIh",
        "colab_type": "text"
      },
      "source": [
        ""
      ]
    },
    {
      "cell_type": "code",
      "metadata": {
        "id": "ewfoKgRhf2j5",
        "colab_type": "code",
        "colab": {}
      },
      "source": [
        ""
      ],
      "execution_count": 0,
      "outputs": []
    },
    {
      "cell_type": "markdown",
      "metadata": {
        "id": "k0pMxgVrf8bV",
        "colab_type": "text"
      },
      "source": [
        "## __1주차 과제 (2020.05.21)__\n",
        "-----------------------------------------------\n",
        "\n",
        "작성자: 강기헌<br>\n",
        "과제: 언어, 음성, 이미지, 자율주행 4가지 제품 및 서비스 자료조사<br>\n",
        "\n",
        "##__목차__\n",
        "-----------------------------------------------------------------\n",
        "1.언어 2.음성 3.이미지 4.자율주행<br>\n",
        "\n",
        "### __1.언어__\n",
        "-----------------------------------------------------------------\n",
        "* 구글번역기(Google Translate)<br>\n",
        "  * 신경망 번역(NMT:Neural Machine Translation)방식을 적용함.\n",
        "기존의 번역은 통계적인 기법을 사용한다 문장,단어를 기반으로 분석한 후 그단어를\n",
        "대체할 확률이 가장 높은 단어로 교체하는것이었다\n",
        "그러나 구글이 신경망 번역 기술을 도입하면서 번역의 정확도 가 올라감\n",
        "\n",
        "![구글번역](http://blogfiles.naver.net/MjAxNjExMTlfMTE2/MDAxNDc5NTM3MDA4Mjg4.srYUES263sfLMnmmTiAg3NqDxRM1V5m2ppyQ2cwwqrQg.9qBV_ttsAm47OB10O-KRoH0QLS_Xi5DgJVAJqFMJlcsg.JPEG.kcolacup/%BD%C5%B0%E6%B8%C14.jpg)<br>\n",
        "\n",
        "이 인공신경망은 기계어로 재조합된 빨강문장을 아직 기계어인 초록문장 으로 번역을 한다\n",
        "각각의 파랑 원들은 모든 빨강 원들에게서 숫자를 받아서 원칙1에 따라 숫자를 정하고\n",
        "각각의 초록원들은 모든 파랑 원들에게서 숫자를 받아 원칙2에 따랄 사진의 숫자를 정한다\n",
        "결국 회색 선들이 어떤 원칙을 가졌는지에 따라 초록 원에 어떤 숫자가 정해질지 정해진다.<br>\n",
        "-----------------------------------------------------------------\n",
        "### __2.음성__\n",
        "\n",
        "* 아마존의 알렉사<br>\n",
        "\n",
        "![알렉사](http://s3.ap-northeast-2.amazonaws.com/cloimage/home/rails/clo/public/ckeditor_assets/pictures/3663/content_.png.)<br>\n",
        "\n",
        "인간의 목소리가 AI 스피커의 마이크를 통해 입력되면 ‘스피치 프로세서(SPEECH PROCESSOR)’는 음성 신호를 음성 신호 벡터로 변화시킨다.\n",
        "음성 신호 벡터는 ‘스피치 인식기(SPEECH RECOGNIZER)’와 \n",
        "‘언어 특징 추출기(LINGUISTIC FEATURE EXTRACTOR)’를 통해 ‘언어 표현 정보(LINGUISTIC REPRESENTATION)’로 추출된다. \n",
        "여기서 언어 표현 정보는 기존의 단어 관련 정보를 고려하여 추출된다.\n",
        "이렇게 추출된 언어 표현 정보는 ‘스킬 분류기(SKILL CLASSIFIER)(130)’,\n",
        " ‘의도 분류기(INTENT CLASSIFIER)(141)’ \n",
        " ‘슬롯 인지기(SLOT RECOGNIZER)(150)’로 입력된다.\n",
        "먼저 스킬 분류기(130)는 언어 표현 정보를 통해 입력된 명령에 알맞은 스킬을 결정할 수 있다.\n",
        "의도 분류기(141)는 언어 표현 정보를 통해 입력된 명령의 의도를 결정할 수 있다.\n",
        "슬롯 인지기(150)는 언어 표현 정보에서 의미 있는 정보를 인지한다.\n",
        "이렇게 분류 및 인지를 마친 스킬, 의도, 슬롯은 ‘스킬 프로세서(SKILL PROCESSOR)’(160)를 거쳐\n",
        "명령 수행을 위한 관련 기기를 동작시킨다.<br>\n",
        "-----------------------------------------------------------------\n",
        "\n",
        "### __3.이미지__\n",
        "\n",
        "* 비비노(Vivino)\n",
        "\n",
        "![비비노](https://post-phinf.pstatic.net/MjAxOTEyMDlfNzQg/MDAxNTc1ODkyMzM5OTMx.FLUGuhrzmmLfPb51iC8qMG1WJT3qFhC-BGM0IrIkhBQg.ZWjASZDHTY8tLrVEKyzIP_IJStXmfMVPQjfJOVmjDlYg.JPEG/Screenshot_2019-12-09_at_20.27.34.jpg?type=w1200)<br>\n",
        "\n",
        "비비노는 스마트폰으로 와인 라벨만 찍으면 가격과 평점, 어울리는 안주까지도 추천해준다\n",
        "어플을 통해 전문자 테이스팅 리뷰까지 제공한다.<br>\n",
        "\n",
        "* 앤트러피(Entrupy)<br>\n",
        "\n",
        "![앤트러피](https://post-phinf.pstatic.net/MjAxOTEyMDlfNDMg/MDAxNTc1ODkyMzgzMTg4.NYckIWhO_iPUXSjPo-H0j8C8WbspsWkjIji9V6HI36kg.15UnM_vDRfYDBrH1ODx4xq1Tt8rrMGHyAS4p7fb9oZcg.JPEG/Screenshot_2019-12-09_at_20.30.50.jpg?type=w1200)<br>\n",
        "\n",
        "명품을 실시간으로 판별해주는 인공지능 스캐너다. 가방,신발 등 명품 제품의 표면을 사진으로 찍으면\n",
        "300만 장의 사진을 학습한 AI가 이미지를 분석하여 진품 여부를 판별해준다.\n",
        "이 시스템은 제품을 현미경 사진으로 찍은 다음 사물을 260배 확대하여 육안으로 찾아내기 어려운\n",
        "비정상적인 패턴, 즉 인장이나 가죽 잔주름 사이의 작은 공백, 페인트칠 등을 보고 진품 여부를 판별하며\n",
        "이 시스템의 정확도는 98%이며 일상 중 언제 어디서든 진품 판별이 필요할때 15초의 시간으로 확인이 가능하다.\n",
        "--------------------------------------------------------------------------------\n",
        "\n",
        "### __4.자율주행__\n",
        "\n",
        "* 테슬라 의 EV 모델3\n",
        "![테슬라](https://post-phinf.pstatic.net/MjAxOTA3MjNfMTIg/MDAxNTYzODQ3ODUzMDIw.NPmV5Z0bGOPBfrgQtgjzGnR6SkOOA_Kovl9shIAeEbsg.MTvcQxXHoVyCynssswW3_wDNWbPRM1aN_8Yh0aGuLLYg.JPEG/01.jpg?type=w1200)\n",
        "![테슬라 자동차](https://post-phinf.pstatic.net/MjAxOTA3MjNfMTk5/MDAxNTYzODQ3ODUzMDA2.LE71lF5-oFoRIrtVVYgFxsVcjYb1iwkYTSTseeNRapAg.Q-PV77AJi0K3KhArGdaDfgHTNunG5kje_wwtgGE9-tQg.JPEG/02.jpg?type=w1200)<br>\n",
        "\n",
        "테슬라에서 자체계발한 FSD(Full Self-Driving) 신형 AI칩셋을 장착함\n",
        "FSD(Full Self-Driving) 칩의 주요 스펙은 \n",
        " * FSD 칩 전체: HW2.5에 이은 HW3 아키텍처, 코드명 TURBO, 14나노 핀펫 공정 FPGA. 초당 2,300프레임까지 프로세싱\n",
        " *  뉴럴 네트워크 프로세서: 32MB SRAM, ReLU 하드웨어, 36TOPS(Tera Operations Per Second, 정수연산단위), 칩 두 개로 총 72TOPS, 2GHz\n",
        " *  GPU: 600GFLOPS(기가플롭스, 부동소수점 연산단위), 1GHz\n",
        " *  메인 프로세서: 삼성 엑시노스 SOC 및 ARM A72 코어 기반 CPU, 2.2GHz\n",
        " *  메모리: 128-bit LPDDR4-4266 memory\n",
        " *  Security 시스템: 테슬라에 의해 승인된 암호화 코드를 통해서만 운영되도록 함\n",
        " *  Safety 시스템\n",
        "\n",
        " --------------------------------------------------------------------------------\n",
        "<자료 출처 링크>\n",
        "\n",
        "[구글번역기](https://m.blog.naver.com/kcolacup/220865620556)\n",
        "\n",
        "[알렉사](http://clomag.co.kr/article/3103)\n",
        "\n",
        "[비비노/앤트러피](https://post.naver.com/viewer/postView.nhn?volumeNo=27041213&memberNo=43011790)\n",
        "\n",
        "[EV 모델3](https://m.post.naver.com/viewer/postView.nhn?volumeNo=22726469&memberNo=28156090)"
      ]
    }
  ]
}